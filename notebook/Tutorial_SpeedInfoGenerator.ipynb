{
 "cells": [
  {
   "cell_type": "markdown",
   "id": "bb4d990f",
   "metadata": {},
   "source": [
    "# Real City Road Network Speed Information Generator\n",
    "This notebook gives a brief overview on how to add speed information."
   ]
  },
  {
   "cell_type": "code",
   "execution_count": 1,
   "id": "c95ce14b",
   "metadata": {},
   "outputs": [],
   "source": [
    "DATA_FOLDER = \"../data_example/\""
   ]
  },
  {
   "cell_type": "markdown",
   "id": "be93e352",
   "metadata": {},
   "source": [
    "I used Seoul open data set, but you can use your own implementation."
   ]
  },
  {
   "cell_type": "markdown",
   "id": "e3e590cd",
   "metadata": {},
   "source": [
    "Load data which is downloaded from https://data.seoul.go.kr/. Note that it includes lots of Korean words."
   ]
  },
  {
   "cell_type": "code",
   "execution_count": 2,
   "id": "620874ad",
   "metadata": {},
   "outputs": [],
   "source": [
    "import pandas as pd\n",
    "data = pd.read_csv(DATA_FOLDER+'road_speed_seoul_20181023.csv', encoding='euc-kr')"
   ]
  },
  {
   "cell_type": "markdown",
   "id": "5071f69a",
   "metadata": {},
   "source": [
    "Load graph data."
   ]
  },
  {
   "cell_type": "code",
   "execution_count": 3,
   "id": "85d4b2a7",
   "metadata": {},
   "outputs": [],
   "source": [
    "import osmnx as ox\n",
    "G = ox.load_graphml(filepath=DATA_FOLDER+'seoul_rectangular_drive_network_simplified.graphml')"
   ]
  },
  {
   "cell_type": "markdown",
   "id": "64398ab3",
   "metadata": {},
   "source": [
    "Following code matches road name in OSMNX and road name in speed data.\n",
    "Actual speed information is not included. Only road name in speed data would be exported."
   ]
  },
  {
   "cell_type": "code",
   "execution_count": 4,
   "id": "d2410d3f",
   "metadata": {},
   "outputs": [],
   "source": [
    "# 도로명 means road name\n",
    "road_name_list = list(set(list(data['도로명'])))"
   ]
  },
  {
   "cell_type": "markdown",
   "id": "7fe8385b",
   "metadata": {},
   "source": [
    "(1) Initialize road speed if name matches"
   ]
  },
  {
   "cell_type": "code",
   "execution_count": 5,
   "id": "5a20edda",
   "metadata": {},
   "outputs": [
    {
     "name": "stdout",
     "output_type": "stream",
     "text": [
      "Match road name count:  5913\n",
      "Unique road name count:  424\n"
     ]
    }
   ],
   "source": [
    "from queue import Queue\n",
    "q = Queue()\n",
    "match_road_name_count = 0\n",
    "match_road_name_set = set()\n",
    "for edge in list(G.edges(keys=True, data=True)):\n",
    "    u, v, k, info = edge\n",
    "    road_name = info.get('name')\n",
    "    # name matches\n",
    "    if road_name in road_name_list:\n",
    "        match_road_name_count += 1\n",
    "        match_road_name_set.add(road_name)\n",
    "        info['speed_info_closest_road'] = road_name\n",
    "        q.put(edge)\n",
    "print(\"Match road name count: \", match_road_name_count)\n",
    "print(\"Unique road name count: \", len(match_road_name_set))"
   ]
  },
  {
   "cell_type": "markdown",
   "id": "e8a55939",
   "metadata": {},
   "source": [
    "(2) If name does not match, set to the closest speed-known road."
   ]
  },
  {
   "cell_type": "code",
   "execution_count": 6,
   "id": "8cfcdc0c",
   "metadata": {},
   "outputs": [],
   "source": [
    "while q.qsize() > 0:\n",
    "    p = q.get()\n",
    "    u0, v0, k0, info0 = p\n",
    "    for e in G.out_edges(v0, keys=True, data=True):\n",
    "        u, v, k, info = e\n",
    "        if 'speed_info_closest_road' not in info:\n",
    "            info['speed_info_closest_road'] = info0['speed_info_closest_road']\n",
    "            q.put(e)"
   ]
  },
  {
   "cell_type": "markdown",
   "id": "81e0acac",
   "metadata": {},
   "source": [
    "Finally export data that contains road name for speed data."
   ]
  },
  {
   "cell_type": "code",
   "execution_count": 7,
   "id": "fa9afa41",
   "metadata": {},
   "outputs": [],
   "source": [
    "ox.save_graphml(G, filepath=DATA_FOLDER+'seoul_rectangular_drive_network_simplified_with_speed.graphml')"
   ]
  }
 ],
 "metadata": {
  "kernelspec": {
   "display_name": "roadnetwork",
   "language": "python",
   "name": "roadnetwork"
  },
  "language_info": {
   "codemirror_mode": {
    "name": "ipython",
    "version": 3
   },
   "file_extension": ".py",
   "mimetype": "text/x-python",
   "name": "python",
   "nbconvert_exporter": "python",
   "pygments_lexer": "ipython3",
   "version": "3.7.10"
  }
 },
 "nbformat": 4,
 "nbformat_minor": 5
}
