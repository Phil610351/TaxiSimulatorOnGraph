{
 "cells": [
  {
   "cell_type": "markdown",
   "metadata": {},
   "source": [
    "# Real City Case (Multiprocessing)\n",
    "\n",
    "※Warning: Multiple GPUs are required to run this code!\n",
    "\n",
    "※Warning: Real data is not uploaded. Only few example data is uploaded. Just see how simulation goes. \n",
    "\n",
    "This notebook gives a brief overview on how to train multiple configs using multiprocessing."
   ]
  },
  {
   "cell_type": "code",
   "execution_count": 1,
   "metadata": {},
   "outputs": [
    {
     "name": "stderr",
     "output_type": "stream",
     "text": [
      "Using backend: pytorch\n"
     ]
    }
   ],
   "source": [
    "import warnings\n",
    "warnings.filterwarnings('ignore')\n",
    "%load_ext autoreload\n",
    "%autoreload 2\n",
    "import sys \n",
    "sys.path.append(\"../\")\n",
    "import osmnx as ox\n",
    "import torch as th\n",
    "import networkx as nx\n",
    "import dgl"
   ]
  },
  {
   "cell_type": "code",
   "execution_count": 2,
   "metadata": {},
   "outputs": [],
   "source": [
    "DATA_FOLDER='../data_example/'"
   ]
  },
  {
   "cell_type": "markdown",
   "metadata": {},
   "source": [
    "Here is a common parameters example."
   ]
  },
  {
   "cell_type": "code",
   "execution_count": 3,
   "metadata": {},
   "outputs": [],
   "source": [
    "TRAIN_EPOCH = 5\n",
    "TRAIN_TIME_STEPS = 1438 \n",
    "\n",
    "common_parameters = {\n",
    "    \"graph_data\": DATA_FOLDER+'seoul_rectangular_drive_network_simplified_with_speed.graphml',\n",
    "    \n",
    "    \"call_generator_data\": DATA_FOLDER+'seoul_call_data_20181023.csv',\n",
    "    \"driver_initializer_data\": DATA_FOLDER+'seoul_idle_driver_initial_distribution_20181023.csv',\n",
    "    \"total_driver_number_per_time_data\": DATA_FOLDER+'seoul_total_driver_per_time_20181023.csv',\n",
    "    \"speed_info_data\": DATA_FOLDER+'.road_speed_seoul_20181023.csv',\n",
    "    \n",
    "    \"name\":'seoul_with_speed',\n",
    "    \"consider_speed\": True,\n",
    "    \"epochs\": TRAIN_EPOCH, \n",
    "    \"time_steps\": TRAIN_TIME_STEPS,\n",
    "    \"log_save_folder\": 'train_log_multiprocessing',\n",
    "    \"model_save_folder\": 'model_data_multiprocessing',\n",
    "    \"write_log\": True,\n",
    "    \"save_model\": True,\n",
    "    \"verbos\": False\n",
    "}"
   ]
  },
  {
   "cell_type": "markdown",
   "metadata": {},
   "source": [
    "Here is a config example with different settings."
   ]
  },
  {
   "cell_type": "code",
   "execution_count": 4,
   "metadata": {},
   "outputs": [],
   "source": [
    "from main import *\n",
    "\n",
    "kwargs_list = []\n",
    "\n",
    "# (0) Simple (not required if train only)\n",
    "# kwargs_list.append({\"model_type\":'random'})\n",
    "# kwargs_list.append({\"model_type\":'proportional', \"strategy\": 1, \"policy_pow\": 1.0})\n",
    "\n",
    "# (1) Argmax\n",
    "kwargs_list.append({\"model_type\":'gcn', \"strategy\": POLICY_ARGMAX, \"gpu_id\":0, \"epsilon_min\":0.1})\n",
    "kwargs_list.append({\"model_type\":'gat', \"strategy\": POLICY_ARGMAX, \"gpu_id\":0, \"epsilon_min\":0.1})\n",
    "\n",
    "# (2) Pow\n",
    "kwargs_list.append({\"model_type\":'gcn', \"strategy\": POLICY_POW, \"gpu_id\":1, \"policy_pow\":3})\n",
    "kwargs_list.append({\"model_type\":'gat', \"strategy\": POLICY_POW, \"gpu_id\":1, \"policy_pow\":3})\n",
    "\n",
    "# (3) Exp\n",
    "kwargs_list.append({\"model_type\":'gcn', \"strategy\": POLICY_EXP, \"gpu_id\":2, \"temperature\":0.02})\n",
    "kwargs_list.append({\"model_type\":'gat', \"strategy\": POLICY_EXP, \"gpu_id\":2, \"temperature\":0.02})\n",
    "\n",
    "# (4) Entropy Softmax\n",
    "kwargs_list.append({\"model_type\":'gcn', \"strategy\": POLICY_ENTROPY, \"gpu_id\":3, \"temperature\":0.02})\n",
    "kwargs_list.append({\"model_type\":'gat', \"strategy\": POLICY_ENTROPY, \"gpu_id\":3, \"temperature\":0.02})"
   ]
  },
  {
   "cell_type": "code",
   "execution_count": 5,
   "metadata": {},
   "outputs": [],
   "source": [
    "# may be changed\n",
    "common_parameters['driver_coefficient'] = 0.5"
   ]
  },
  {
   "cell_type": "markdown",
   "metadata": {},
   "source": [
    "Finally run train and evaluate using multiprocessing. See code in `main.py` for details."
   ]
  },
  {
   "cell_type": "code",
   "execution_count": null,
   "metadata": {},
   "outputs": [],
   "source": [
    "train_using_multiprocessing(common_parameters, kwargs_list)\n",
    "evaluate_using_multiprocessing(common_parameters, kwargs_list)"
   ]
  }
 ],
 "metadata": {
  "kernelspec": {
   "display_name": "roadnetwork",
   "language": "python",
   "name": "roadnetwork"
  },
  "language_info": {
   "codemirror_mode": {
    "name": "ipython",
    "version": 3
   },
   "file_extension": ".py",
   "mimetype": "text/x-python",
   "name": "python",
   "nbconvert_exporter": "python",
   "pygments_lexer": "ipython3",
   "version": "3.7.10"
  }
 },
 "nbformat": 4,
 "nbformat_minor": 2
}
